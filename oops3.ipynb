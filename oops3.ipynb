{
 "cells": [
  {
   "cell_type": "code",
   "execution_count": 4,
   "id": "99fc5fa5-2f66-4b4c-8d99-e42e4dba3f87",
   "metadata": {},
   "outputs": [
    {
     "name": "stdout",
     "output_type": "stream",
     "text": [
      "4\n",
      "hiworld\n",
      "[1, 2, 3, 4, 5, 6]\n"
     ]
    }
   ],
   "source": [
    "# operator overloading means when the same operator eg '+' is used for different different things\n",
    "print(1+3)\n",
    "print(\"hi\"+ \"world\")\n",
    "print([1,2,3]+[4,5,6])"
   ]
  },
  {
   "cell_type": "code",
   "execution_count": 50,
   "id": "a1a0d003-0ab9-4d5d-8493-4354585d14b3",
   "metadata": {},
   "outputs": [
    {
     "name": "stdout",
     "output_type": "stream",
     "text": [
      "3 i+ 2 j\n",
      "5 i+ 4 j\n",
      "8 i+ 6 j\n"
     ]
    }
   ],
   "source": [
    "class example:\n",
    "    def __init__(self,img,real):\n",
    "        self.img=img\n",
    "        self.real=real\n",
    "    def showNum(self):\n",
    "        print(self.real,'i+',self.img,'j')\n",
    "    def __add__(self,num2):\n",
    "     # def add(self,num2):\n",
    "        realnum=self.real+num2.real\n",
    "        realimg=self.img+num2.img\n",
    "        return example(realimg,realnum)\n",
    "num1=example(2,3)\n",
    "num1.showNum()\n",
    "\n",
    "num2=example(4,5)\n",
    "num2.showNum()\n",
    "\n",
    "num3=num2+num1\n",
    "num3.showNum()"
   ]
  },
  {
   "cell_type": "markdown",
   "id": "77466ab9-1ae0-42ef-953f-e188cd7aa4fe",
   "metadata": {},
   "source": [
    "Dunder functions (short for double underscore) are special methods in Python that have double underscores at the beginning and end of their names (e.g., __init__, __str__, __len__). These functions enable operator overloading and custom behavior for built-in functions."
   ]
  },
  {
   "cell_type": "code",
   "execution_count": 70,
   "id": "f3dc77ff-78c1-498b-ab62-bfb983dfe49f",
   "metadata": {},
   "outputs": [
    {
     "name": "stdout",
     "output_type": "stream",
     "text": [
      "28.259999999999998\n",
      "18.84\n"
     ]
    }
   ],
   "source": [
    "class circle:\n",
    "    def __init__(self,r):\n",
    "        self.r=r\n",
    "    def area(self):\n",
    "        return 3.14*self.r*self.r\n",
    "    def perimeter(self):\n",
    "        return 2*3.14*self.r\n",
    "c1=circle(3)\n",
    "print(c1.area())\n",
    "print(c1.perimeter())\n"
   ]
  },
  {
   "cell_type": "code",
   "execution_count": 84,
   "id": "ebc5cad3-f0ea-4c46-a063-399d08197840",
   "metadata": {},
   "outputs": [
    {
     "name": "stdout",
     "output_type": "stream",
     "text": [
      "role: engineer\n",
      "department: IT\n",
      "salary: 75000\n"
     ]
    }
   ],
   "source": [
    "class employee:\n",
    "    def __init__(self,role,department,salary):\n",
    "        self.role=role\n",
    "        self.department=department\n",
    "        self.salary=salary\n",
    "    def showdetails(self):\n",
    "      print(\"role:\",self.role)\n",
    "      print(\"department:\",self.department)\n",
    "      print(\"salary:\",self.salary)\n",
    "class engineer(employee):\n",
    "    def __init__(self,name,age):\n",
    "        self.name=name\n",
    "        self.age=age\n",
    "        # super(): Iska use parent class ko refer karne ke liye hota hai.\n",
    "        super().__init__(\"engineer\",\"IT\",\"75000\")\n",
    "# e1=employee(\"data scientist\",\"cse\",9000)\n",
    "# print(e1.showdetails())\n",
    "e2=engineer(\"rahul\",\"19\") \n",
    "e2.showdetails()"
   ]
  },
  {
   "cell_type": "code",
   "execution_count": 94,
   "id": "0dd791c9-d98c-4727-a08e-7a95a50e543f",
   "metadata": {},
   "outputs": [
    {
     "data": {
      "text/plain": [
       "True"
      ]
     },
     "execution_count": 94,
     "metadata": {},
     "output_type": "execute_result"
    }
   ],
   "source": [
    "class order:\n",
    "    def __init__(self,order,price):\n",
    "        self.order=order\n",
    "        self.price=price\n",
    "    def __gt__(self,o2):\n",
    "        return self.price>o2.price\n",
    "o1=order(\"chips\",10)\n",
    "o2=order(\"kurkure\",20)\n",
    "o2>o1"
   ]
  },
  {
   "cell_type": "code",
   "execution_count": null,
   "id": "7c972a68-5597-4dd6-b1ea-7db8abedb352",
   "metadata": {},
   "outputs": [],
   "source": []
  }
 ],
 "metadata": {
  "kernelspec": {
   "display_name": "Python 3 (ipykernel)",
   "language": "python",
   "name": "python3"
  },
  "language_info": {
   "codemirror_mode": {
    "name": "ipython",
    "version": 3
   },
   "file_extension": ".py",
   "mimetype": "text/x-python",
   "name": "python",
   "nbconvert_exporter": "python",
   "pygments_lexer": "ipython3",
   "version": "3.12.7"
  },
  "widgets": {
   "application/vnd.jupyter.widget-state+json": {
    "state": {},
    "version_major": 2,
    "version_minor": 0
   }
  }
 },
 "nbformat": 4,
 "nbformat_minor": 5
}
