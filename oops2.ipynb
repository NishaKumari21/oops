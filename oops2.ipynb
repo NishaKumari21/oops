{
 "cells": [
  {
   "cell_type": "code",
   "execution_count": 5,
   "id": "88e69d42-9bfd-4692-b397-1a58e985ce5f",
   "metadata": {},
   "outputs": [
    {
     "ename": "NameError",
     "evalue": "name 's1' is not defined",
     "output_type": "error",
     "traceback": [
      "\u001b[1;31m---------------------------------------------------------------------------\u001b[0m",
      "\u001b[1;31mNameError\u001b[0m                                 Traceback (most recent call last)",
      "Cell \u001b[1;32mIn[5], line 9\u001b[0m\n\u001b[0;32m      7\u001b[0m \u001b[38;5;66;03m# to delete s1 object\u001b[39;00m\n\u001b[0;32m      8\u001b[0m \u001b[38;5;28;01mdel\u001b[39;00m s1\n\u001b[1;32m----> 9\u001b[0m \u001b[38;5;28mprint\u001b[39m(\u001b[43ms1\u001b[49m\u001b[38;5;241m.\u001b[39mname)\n",
      "\u001b[1;31mNameError\u001b[0m: name 's1' is not defined"
     ]
    }
   ],
   "source": [
    "class student:\n",
    "    def __init__(self,name,age,gender):\n",
    "        self.name=name\n",
    "        self.age=age\n",
    "        self.gender=gender\n",
    "s1=student(\"nisha\",19,\"female\")\n",
    "# to delete s1 object\n",
    "del s1\n",
    "print(s1.name)"
   ]
  },
  {
   "cell_type": "code",
   "execution_count": 15,
   "id": "fa327734-865b-4d70-b04b-9a7696ee36b9",
   "metadata": {},
   "outputs": [
    {
     "ename": "TypeError",
     "evalue": "person.__hello() takes 0 positional arguments but 1 was given",
     "output_type": "error",
     "traceback": [
      "\u001b[1;31m---------------------------------------------------------------------------\u001b[0m",
      "\u001b[1;31mTypeError\u001b[0m                                 Traceback (most recent call last)",
      "Cell \u001b[1;32mIn[15], line 10\u001b[0m\n\u001b[0;32m      8\u001b[0m p1\u001b[38;5;241m=\u001b[39mperson()\n\u001b[0;32m      9\u001b[0m \u001b[38;5;66;03m# print(p1.__name)\u001b[39;00m\n\u001b[1;32m---> 10\u001b[0m \u001b[43mp1\u001b[49m\u001b[38;5;241;43m.\u001b[39;49m\u001b[43mwelcome\u001b[49m\u001b[43m(\u001b[49m\u001b[43m)\u001b[49m\n",
      "Cell \u001b[1;32mIn[15], line 7\u001b[0m, in \u001b[0;36mperson.welcome\u001b[1;34m(self)\u001b[0m\n\u001b[0;32m      6\u001b[0m \u001b[38;5;28;01mdef\u001b[39;00m \u001b[38;5;21mwelcome\u001b[39m(\u001b[38;5;28mself\u001b[39m):\n\u001b[1;32m----> 7\u001b[0m     \u001b[38;5;28;43mself\u001b[39;49m\u001b[38;5;241;43m.\u001b[39;49m\u001b[43m__hello\u001b[49m\u001b[43m(\u001b[49m\u001b[43m)\u001b[49m\n",
      "\u001b[1;31mTypeError\u001b[0m: person.__hello() takes 0 positional arguments but 1 was given"
     ]
    }
   ],
   "source": [
    "# conceptual private:\n",
    "class person:\n",
    "    __name=\"anaymous\"\n",
    "    def __hello():\n",
    "        print(\"hello\")\n",
    "    def welcome(self):\n",
    "        self.__hello()\n",
    "p1=person()\n",
    "# print(p1.__name)\n",
    "p1.welcome()"
   ]
  },
  {
   "cell_type": "code",
   "execution_count": 35,
   "id": "2361eba4-585b-45c2-b32a-62d4cf3a760e",
   "metadata": {},
   "outputs": [
    {
     "name": "stdout",
     "output_type": "stream",
     "text": [
      "black\n",
      "car stops\n",
      "None\n"
     ]
    }
   ],
   "source": [
    "class car:\n",
    "    color=\"black\"\n",
    "    @staticmethod\n",
    "    def start():\n",
    "        print(\"car starts\")\n",
    "    @staticmethod\n",
    "    def stop():\n",
    "        print(\"car stops\")\n",
    "class toyata(car):\n",
    "    def __init__(self,name):\n",
    "     self.name=name\n",
    "t1=toyata(\"abc\")\n",
    "print(t1.color)\n",
    "print(t1.stop())\n",
    "    "
   ]
  },
  {
   "cell_type": "code",
   "execution_count": null,
   "id": "56bffd6d-5ce9-4537-8d8b-9c143f488527",
   "metadata": {},
   "outputs": [],
   "source": [
    "# 3 types of inheritance:\n",
    "# single,multilevel,multiple"
   ]
  },
  {
   "cell_type": "code",
   "execution_count": 53,
   "id": "089bf15a-ed84-4c39-816b-5346f9d3a19f",
   "metadata": {},
   "outputs": [
    {
     "name": "stdout",
     "output_type": "stream",
     "text": [
      "starting\n",
      "None\n",
      "yes\n"
     ]
    }
   ],
   "source": [
    "# multilevel:\n",
    "class car:\n",
    "    color=\"black\"\n",
    "    @staticmethod\n",
    "    def start():\n",
    "        print(\"starting\")\n",
    "    @staticmethod\n",
    "    def stops():\n",
    "        print(\"stops\")\n",
    "class Toyota(car):\n",
    "    def __init__(self,brand):\n",
    "        self.brand=brand\n",
    "class fortuner(Toyota):\n",
    "    def __init__(self,type):\n",
    "        self.type=type\n",
    "t1=fortuner(\"mercedes\")\n",
    "t2=Toyota(\"yes\")\n",
    "print(t1.start())\n",
    "print(t2.brand)"
   ]
  },
  {
   "cell_type": "code",
   "execution_count": 57,
   "id": "c9706922-7e7b-4dd0-acc1-cf80b43a3453",
   "metadata": {},
   "outputs": [
    {
     "name": "stdout",
     "output_type": "stream",
     "text": [
      "bye\n",
      "hello\n",
      "hii\n"
     ]
    }
   ],
   "source": [
    "# multiple inheritance\n",
    "class a:\n",
    "    v1=(\"hii\")\n",
    "class b:\n",
    "    v2=(\"hello\")\n",
    "class c(a,b):\n",
    "    v3=(\"bye\")\n",
    "c1=c()\n",
    "print(c1.v3)\n",
    "print(c1.v2)\n",
    "print(c1.v1)"
   ]
  },
  {
   "cell_type": "code",
   "execution_count": 67,
   "id": "5cbc98f2-8ad4-4911-9266-19ed567926e9",
   "metadata": {},
   "outputs": [
    {
     "name": "stdout",
     "output_type": "stream",
     "text": [
      "electric\n",
      "yes\n"
     ]
    }
   ],
   "source": [
    "# super class:used to access from parent class:\n",
    "class car:\n",
    "    def __init__(self,type):\n",
    "        self.type=type\n",
    "    @staticmethod\n",
    "    def start():\n",
    "        print(\"starting\")\n",
    "    @staticmethod\n",
    "    def stops():\n",
    "        print(\"stops\")\n",
    "class Toyota(car):\n",
    "    def __init__(self,brand,type):\n",
    "        super().__init__(type)\n",
    "        self.brand=brand\n",
    "\n",
    "\n",
    "t2=Toyota(\"yes\",\"electric\")\n",
    "print(t2.type)\n",
    "print(t2.brand)"
   ]
  },
  {
   "cell_type": "code",
   "execution_count": null,
   "id": "44cb544c-a2b5-4fb6-9cf3-9dc23fb93106",
   "metadata": {},
   "outputs": [],
   "source": []
  }
 ],
 "metadata": {
  "kernelspec": {
   "display_name": "Python 3 (ipykernel)",
   "language": "python",
   "name": "python3"
  },
  "language_info": {
   "codemirror_mode": {
    "name": "ipython",
    "version": 3
   },
   "file_extension": ".py",
   "mimetype": "text/x-python",
   "name": "python",
   "nbconvert_exporter": "python",
   "pygments_lexer": "ipython3",
   "version": "3.12.7"
  },
  "widgets": {
   "application/vnd.jupyter.widget-state+json": {
    "state": {},
    "version_major": 2,
    "version_minor": 0
   }
  }
 },
 "nbformat": 4,
 "nbformat_minor": 5
}
