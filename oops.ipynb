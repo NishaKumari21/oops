{
 "cells": [
  {
   "cell_type": "code",
   "execution_count": 42,
   "id": "e156629c-40b0-44b3-b911-fbc305cdb18a",
   "metadata": {},
   "outputs": [
    {
     "name": "stdout",
     "output_type": "stream",
     "text": [
      "<__main__.student object at 0x000002972B56BBC0>\n",
      "this is student\n",
      "karan\n",
      "18\n",
      "ARYA COLLEGE\n",
      "you are welcome\n",
      "18\n",
      "<__main__.student object at 0x000002972A3B1040>\n",
      "this is student\n",
      "arjun\n"
     ]
    }
   ],
   "source": [
    "class student:\n",
    "    # class attribute\n",
    "    college_name=\"ARYA COLLEGE\"\n",
    "    # default consrtructor\n",
    "    # def __init__(self):\n",
    "    #     print(\"hello\")\n",
    "        # parameterized constructor\n",
    "    def __init__(self,fullname,marks):\n",
    "        # object attribute\n",
    "        print(self)\n",
    "        self.name=fullname\n",
    "        self.marks=marks\n",
    "        print(\"this is student\")\n",
    "    def welcome(self):\n",
    "        maget_marks(self):\n",
    "        print(self.marks)\n",
    "    \n",
    "s1=student(\"karan\",\"18\")\n",
    "print(s1.name)\n",
    "print(s1.marks)\n",
    "print(s1.college_name)\n",
    "(s1.welcome())\n",
    "s1.get_marks()\n",
    "# print(s1)\n",
    "s2=student(\"arjun\",\"19\")\n",
    "print(s2.name)\n",
    "# constructor is called everytime"
   ]
  },
  {
   "cell_type": "code",
   "execution_count": 4,
   "id": "132b601b-69ae-4f37-b728-ca27111cf21e",
   "metadata": {},
   "outputs": [
    {
     "name": "stdout",
     "output_type": "stream",
     "text": [
      "blue\n",
      "tata\n",
      "big\n"
     ]
    }
   ],
   "source": [
    "class car:\n",
    "    color=\"blue\"\n",
    "    model=\"tata\"\n",
    "    size=\"big\"\n",
    "s2=car()\n",
    "print(s2.color)\n",
    "print(s2.model)\n",
    "print(s2.size)"
   ]
  },
  {
   "cell_type": "code",
   "execution_count": null,
   "id": "7ea77309-3f1c-4315-a0c1-87f26f2b8cb1",
   "metadata": {},
   "outputs": [],
   "source": [
    "# init function always executed (costructor) everytime when class is called by object"
   ]
  },
  {
   "cell_type": "code",
   "execution_count": 77,
   "id": "d1ce77e1-8680-4db1-b95d-fa0c20c8042f",
   "metadata": {},
   "outputs": [
    {
     "name": "stdout",
     "output_type": "stream",
     "text": [
      "nisha\n",
      "10\n",
      "30.0\n"
     ]
    }
   ],
   "source": [
    "class student:\n",
    "    def __init__(self,name,eng,maths,sci):\n",
    "        self.name=name\n",
    "        self.eng=eng\n",
    "        self.maths=maths\n",
    "        self.sci=sci\n",
    "        \n",
    "    @staticmethod\n",
    "    def avg(maths,sci,eng):\n",
    "          a=((eng+maths+sci)/2)\n",
    "          print(a)\n",
    "s1=student(\"nisha\",10,20,30)\n",
    "print(s1.name)\n",
    "print(s1.eng)\n",
    "s1.avg(10,20,30)"
   ]
  },
  {
   "cell_type": "code",
   "execution_count": null,
   "id": "3539f627-2e55-440e-b293-6537ee998458",
   "metadata": {},
   "outputs": [],
   "source": [
    "# static method in which we dont use the self parameter work at class level.\n",
    "# decorator pura behaviour leta h or uska behaviour chnge krke static method banate h"
   ]
  },
  {
   "cell_type": "code",
   "execution_count": 74,
   "id": "257e3e5f-81a0-46f2-bc9d-fdbf35dbb913",
   "metadata": {},
   "outputs": [
    {
     "name": "stdout",
     "output_type": "stream",
     "text": [
      "40.0\n"
     ]
    }
   ],
   "source": [
    "class student:\n",
    "    def __init__(self, name, eng, maths, sci):\n",
    "        self.name = name\n",
    "        self.eng = eng\n",
    "        self.maths = maths\n",
    "        self.sci = sci\n",
    "\n",
    "    @staticmethod\n",
    "    def avg(maths, sci, eng):  # ✅ Correct placement\n",
    "        a = ((eng + maths + sci) / 2)\n",
    "        print(a)\n",
    "s1=student(\"nisha\",20,30,20)\n",
    "\n",
    "s1.avg(20,30,30)"
   ]
  },
  {
   "cell_type": "code",
   "execution_count": null,
   "id": "cef8fbda-df40-4967-8f47-be0ce1235b17",
   "metadata": {},
   "outputs": [],
   "source": [
    "# 2 pillar of oops:\n",
    "# abstraction\n",
    "# encapuslation\n",
    "# constructor\n",
    "# inheritance"
   ]
  },
  {
   "cell_type": "code",
   "execution_count": 79,
   "id": "87a02b76-2bab-4f21-9e4f-964a576a4bf3",
   "metadata": {},
   "outputs": [
    {
     "name": "stdout",
     "output_type": "stream",
     "text": [
      "car is running....\n"
     ]
    }
   ],
   "source": [
    "# abstraction\n",
    "class car:\n",
    "    def __init__(self):\n",
    "        self.brk=False\n",
    "        self.acc=False\n",
    "        self.cluth=False\n",
    "    def start(self):\n",
    "        self.brk=True\n",
    "        self.acc=True\n",
    "        self.cluth=True\n",
    "        print(\"car is running....\")\n",
    "c1=car()\n",
    "c1.start()"
   ]
  },
  {
   "cell_type": "code",
   "execution_count": 117,
   "id": "6889a1d6-8652-4598-9023-8ba80dd6837c",
   "metadata": {},
   "outputs": [
    {
     "name": "stdout",
     "output_type": "stream",
     "text": [
      "after debit: 1100\n",
      "after crediting: 900\n",
      "your balance is: 900\n"
     ]
    }
   ],
   "source": [
    "# encapsulation:data and related data k encapule bna lete h into a single object\n",
    "class account:\n",
    "    def __init__(self,balance,account_no):\n",
    "        self.balance=balance\n",
    "        self.account_no=account_no\n",
    "    def debit(self,amount):\n",
    "        self.balance +=amount\n",
    "        print(\"after debit:\",self.balance)\n",
    "        \n",
    "    def credit(self,amount):\n",
    "        # self.credit_amt=credit_amt\n",
    "        self.balance -=amount\n",
    "        print(\"after crediting:\",self.balance)\n",
    "        \n",
    "    def total_balance(self):\n",
    "        print(\"your balance is:\",self.balance)\n",
    "a1=account(1000,200)\n",
    "a1.debit(100)\n",
    "a1.credit(200)\n",
    "a1.total_balance()"
   ]
  },
  {
   "cell_type": "code",
   "execution_count": null,
   "id": "a348c3ae-cd6b-43d1-b361-f162921cba17",
   "metadata": {},
   "outputs": [],
   "source": []
  }
 ],
 "metadata": {
  "kernelspec": {
   "display_name": "Python 3 (ipykernel)",
   "language": "python",
   "name": "python3"
  },
  "language_info": {
   "codemirror_mode": {
    "name": "ipython",
    "version": 3
   },
   "file_extension": ".py",
   "mimetype": "text/x-python",
   "name": "python",
   "nbconvert_exporter": "python",
   "pygments_lexer": "ipython3",
   "version": "3.12.7"
  },
  "widgets": {
   "application/vnd.jupyter.widget-state+json": {
    "state": {},
    "version_major": 2,
    "version_minor": 0
   }
  }
 },
 "nbformat": 4,
 "nbformat_minor": 5
}
